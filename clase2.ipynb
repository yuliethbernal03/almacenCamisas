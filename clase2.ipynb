{
  "nbformat": 4,
  "nbformat_minor": 0,
  "metadata": {
    "colab": {
      "name": "Untitled1.ipynb",
      "provenance": [],
      "authorship_tag": "ABX9TyNhGHGlzW3gjktj27avR/Sa",
      "include_colab_link": true
    },
    "kernelspec": {
      "name": "python3",
      "display_name": "Python 3"
    },
    "language_info": {
      "name": "python"
    }
  },
  "cells": [
    {
      "cell_type": "markdown",
      "metadata": {
        "id": "view-in-github",
        "colab_type": "text"
      },
      "source": [
        "<a href=\"https://colab.research.google.com/github/yuliethbernal03/almacenCamisas/blob/main/clase2.ipynb\" target=\"_parent\"><img src=\"https://colab.research.google.com/assets/colab-badge.svg\" alt=\"Open In Colab\"/></a>"
      ]
    },
    {
      "cell_type": "markdown",
      "metadata": {
        "id": "TMNefGK5vCdw"
      },
      "source": [
        "**OPERADORES ARITMETICOS**\n",
        "\n",
        "---\n",
        "los operadores permiten realizar diferentes procesos del calculo en cualquier lenguaje de programacion.\n",
        "\n",
        "los operadores basicos:\n",
        "1. Suma.\n",
        "2. Resta\n",
        "3. Multiplicacion\n",
        "4. Division\n",
        "5. Potenciacion\n",
        "6. Modulo\n"
      ]
    },
    {
      "cell_type": "markdown",
      "metadata": {
        "id": "7Yi8WhKjv6gT"
      },
      "source": [
        "**Suma**\n",
        "---\n",
        "simbolo suma (+) el cual se utilizara en medio de la declaracion de las variables a operar.\n"
      ]
    },
    {
      "cell_type": "code",
      "metadata": {
        "colab": {
          "base_uri": "https://localhost:8080/"
        },
        "id": "3LKjlgI4vNIM",
        "outputId": "fca53d39-cc5a-4f19-d960-63e3bf942b51"
      },
      "source": [
        "print(10 + 300)\n",
        "a = 20\n",
        "b = 35\n",
        "print(a + b)"
      ],
      "execution_count": 1,
      "outputs": [
        {
          "output_type": "stream",
          "text": [
            "310\n",
            "55\n"
          ],
          "name": "stdout"
        }
      ]
    },
    {
      "cell_type": "code",
      "metadata": {
        "colab": {
          "base_uri": "https://localhost:8080/"
        },
        "id": "e_8t-9Mbwota",
        "outputId": "9af78a8a-d9c7-456f-ded1-fabcc82f1887"
      },
      "source": [
        "numero_botellas = 12\n",
        "numero_botellas = numero_botellas + 8\n",
        "print(numero_botellas)"
      ],
      "execution_count": 3,
      "outputs": [
        {
          "output_type": "stream",
          "text": [
            "20\n"
          ],
          "name": "stdout"
        }
      ]
    },
    {
      "cell_type": "markdown",
      "metadata": {
        "id": "NS6TxQnexW7b"
      },
      "source": [
        "**Sumas entre dos diferetes tipos de variables**\n",
        "\n",
        "Recordemos los tipos de variables vistos ayer:\n",
        "1. declaracion de variables numericas enteros.\n",
        "2. flotantes (incorpora y flexibiliza los decimales).\n",
        "3. tipo de cadena."
      ]
    },
    {
      "cell_type": "code",
      "metadata": {
        "colab": {
          "base_uri": "https://localhost:8080/"
        },
        "id": "3H4SU9Mgx2-y",
        "outputId": "d3e17307-f76a-4f20-8eaa-952bf2d508cb"
      },
      "source": [
        "q1 = 100\n",
        "q2 = 24.5\n",
        "print(type(q1+q2))"
      ],
      "execution_count": 4,
      "outputs": [
        {
          "output_type": "stream",
          "text": [
            "<class 'float'>\n"
          ],
          "name": "stdout"
        }
      ]
    },
    {
      "cell_type": "code",
      "metadata": {
        "colab": {
          "base_uri": "https://localhost:8080/"
        },
        "id": "-UlWdG5zyLky",
        "outputId": "bc5a07b6-4ab3-4bde-e31e-540b71c1026a"
      },
      "source": [
        "v1 = \"quiero\"\n",
        "v2 = \"un celular\"\n",
        "print(v1 +\" \"+ v2)"
      ],
      "execution_count": 7,
      "outputs": [
        {
          "output_type": "stream",
          "text": [
            "quiero un celular\n"
          ],
          "name": "stdout"
        }
      ]
    },
    {
      "cell_type": "markdown",
      "metadata": {
        "id": "7Dc3YgYTywXa"
      },
      "source": [
        "**Resta**\n",
        "---\n",
        "Ejemplos\n"
      ]
    },
    {
      "cell_type": "code",
      "metadata": {
        "colab": {
          "base_uri": "https://localhost:8080/"
        },
        "id": "fKUjI9UhzCiT",
        "outputId": "cb7c001c-e726-43f8-a45b-4306e58787ba"
      },
      "source": [
        "xq2 = 235\n",
        "xq3 = 400\n",
        "print(xq2 - xq3)\n",
        "\n",
        "\n",
        "xq2 = 24.66\n",
        "xq3 = 4\n",
        "print(type(xq2 - xq3))"
      ],
      "execution_count": 10,
      "outputs": [
        {
          "output_type": "stream",
          "text": [
            "-165\n",
            "<class 'float'>\n"
          ],
          "name": "stdout"
        }
      ]
    },
    {
      "cell_type": "markdown",
      "metadata": {
        "id": "-zs87mPtzgu0"
      },
      "source": [
        "**IMPORTANTE:**\n",
        "\n",
        "la resta no funciona para variables tipo cadena."
      ]
    },
    {
      "cell_type": "markdown",
      "metadata": {
        "id": "MClNMO_M0wYF"
      },
      "source": [
        "**Multiplicacion**\n",
        "---\n",
        "Definamos la multiplicacion como la suma de varias veces un numero, cantidad de veces indicadas por el otro numero.Ejemplo. 4*2=4+4"
      ]
    },
    {
      "cell_type": "code",
      "metadata": {
        "id": "iTFNcpXY1WSP"
      },
      "source": [
        "cali = 5\n",
        "palmira = 6\n",
        "print(cali*palmira)"
      ],
      "execution_count": null,
      "outputs": []
    },
    {
      "cell_type": "markdown",
      "metadata": {
        "id": "I-Z3Ijdx1ho-"
      },
      "source": [
        "**IMPORTANTE:**\n",
        "\n",
        "se aplica la ley conmutativa.\n",
        "Recordemos la ley conmutativa.  El orden de los factores no altera el resultado(aplica para suma y multiplicacion)"
      ]
    },
    {
      "cell_type": "code",
      "metadata": {
        "id": "m8CE_vzv12-B"
      },
      "source": [
        ""
      ],
      "execution_count": null,
      "outputs": []
    },
    {
      "cell_type": "markdown",
      "metadata": {
        "id": "AehrFwFr191h"
      },
      "source": [
        "**DIVISION**\n",
        "---\n",
        "**ACLARACION:** \n",
        "\n",
        "NO aplica la ley conmutativa.\n",
        "\n",
        "El simbolo de division (/).\n",
        "\n"
      ]
    },
    {
      "cell_type": "code",
      "metadata": {
        "colab": {
          "base_uri": "https://localhost:8080/"
        },
        "id": "WpLrveRi2QC3",
        "outputId": "864a9ccf-9b8d-4930-c458-731afc016f69"
      },
      "source": [
        "a = 20\n",
        "b = 4\n",
        "print(a/b, b/a, a+b, b-a)"
      ],
      "execution_count": 11,
      "outputs": [
        {
          "output_type": "stream",
          "text": [
            "5.0 0.2 24 -16\n"
          ],
          "name": "stdout"
        }
      ]
    },
    {
      "cell_type": "markdown",
      "metadata": {
        "id": "UaFJuK_93HD-"
      },
      "source": [
        "para el **print** podemos separa las operaciones con coma(,) lo cual no afecta la impresion de los resultados."
      ]
    },
    {
      "cell_type": "markdown",
      "metadata": {
        "id": "JmTWVbEB3RG7"
      },
      "source": [
        "**Tipos de division**\n",
        "1. Division exacta (//)\n",
        "2. Division inexacta (/)"
      ]
    },
    {
      "cell_type": "code",
      "metadata": {
        "colab": {
          "base_uri": "https://localhost:8080/"
        },
        "id": "SBIrsgylzwEI",
        "outputId": "8af0caa9-904b-404d-c512-243f47045c24"
      },
      "source": [
        "print(15//3)\n",
        "print(15/3)"
      ],
      "execution_count": 14,
      "outputs": [
        {
          "output_type": "stream",
          "text": [
            "5\n",
            "5.0\n"
          ],
          "name": "stdout"
        }
      ]
    },
    {
      "cell_type": "markdown",
      "metadata": {
        "id": "S2crA8PC4BKk"
      },
      "source": [
        "**Nota:** operacion de division, al igual que una division normal **NO** es posible dividir entre cero. ¿por que? porque en matematicas es un resultado indefinido."
      ]
    },
    {
      "cell_type": "markdown",
      "metadata": {
        "id": "OSvz4Xdi4n1e"
      },
      "source": [
        "**POTENCIACION**\n",
        "---\n",
        "En python el simbolo es (**).\n",
        "\n",
        "Siempre el primer valor es la base y el ultimo valor el exponente"
      ]
    },
    {
      "cell_type": "code",
      "metadata": {
        "colab": {
          "base_uri": "https://localhost:8080/"
        },
        "id": "1QBqXQcr4txU",
        "outputId": "0437f902-b247-408b-b219-755315977114"
      },
      "source": [
        "print(3**3)"
      ],
      "execution_count": 15,
      "outputs": [
        {
          "output_type": "stream",
          "text": [
            "27\n"
          ],
          "name": "stdout"
        }
      ]
    },
    {
      "cell_type": "markdown",
      "metadata": {
        "id": "vp4lhzlt5Kvy"
      },
      "source": [
        "**Modulo**\n",
        "----\n",
        "le llamamos modulo al residuo de la operacion de division.\n",
        "\n",
        "El simbolo usado para mostrar el residuo es (%).\n",
        "\n",
        "El primer valor es el dividendo.\n",
        "\n",
        "El ultimo valor es el division.\n"
      ]
    },
    {
      "cell_type": "code",
      "metadata": {
        "colab": {
          "base_uri": "https://localhost:8080/"
        },
        "id": "Wmm8JMdc5eDZ",
        "outputId": "88d9f868-afc2-458b-c4e9-a419fe917c7d"
      },
      "source": [
        "print(88%9)"
      ],
      "execution_count": 17,
      "outputs": [
        {
          "output_type": "stream",
          "text": [
            "7\n"
          ],
          "name": "stdout"
        }
      ]
    },
    {
      "cell_type": "markdown",
      "metadata": {
        "id": "hL8xANvv8DG-"
      },
      "source": [
        "**OPERADORES DE COMPARACION**\n",
        "------------------------------------\n",
        " los operadores de comparacion sirven para comparar varios valores.En la vida cotidiana a la hora de tomar decisiones tenemos que desidir entre un camino u otro, ejemplo: compras, desiciones de vida, caminos por recorrer."
      ]
    },
    {
      "cell_type": "markdown",
      "metadata": {
        "id": "XgtXlJHk8_GT"
      },
      "source": [
        "**Igualdad**\n",
        "---\n",
        "simbolo en python es (==)\n"
      ]
    },
    {
      "cell_type": "code",
      "metadata": {
        "colab": {
          "base_uri": "https://localhost:8080/"
        },
        "id": "CP_PHOwM9Osr",
        "outputId": "ece21dec-2738-4043-a0a1-20cb2e61e6d3"
      },
      "source": [
        "x = 30\n",
        "z = 31\n",
        "print(x == z)\n"
      ],
      "execution_count": 18,
      "outputs": [
        {
          "output_type": "stream",
          "text": [
            "False\n"
          ],
          "name": "stdout"
        }
      ]
    },
    {
      "cell_type": "code",
      "metadata": {
        "colab": {
          "base_uri": "https://localhost:8080/"
        },
        "id": "_HltbfSv9VPI",
        "outputId": "b4ed5462-f00c-41de-8852-bda1f3a5e0df"
      },
      "source": [
        "x = \"casa\"\n",
        "z = \"caza\"\n",
        "print(x == z)"
      ],
      "execution_count": 19,
      "outputs": [
        {
          "output_type": "stream",
          "text": [
            "False\n"
          ],
          "name": "stdout"
        }
      ]
    },
    {
      "cell_type": "markdown",
      "metadata": {
        "id": "3gzNsfXH_WyR"
      },
      "source": [
        "A diferencia del operador del igualdad, el simbolo esta combinado por el simbolde admiracion, es decir (!=)"
      ]
    },
    {
      "cell_type": "code",
      "metadata": {
        "id": "3vE16Ltg_3eO"
      },
      "source": [
        "X = \"casa\"\n",
        "z = \"caza\"\n",
        "print(x!=z)\n"
      ],
      "execution_count": null,
      "outputs": []
    },
    {
      "cell_type": "markdown",
      "metadata": {
        "id": "jkEaVhnKAHo8"
      },
      "source": [
        "**Mayor que**\n",
        "---\n",
        "Simbolo en python(>)\n",
        "siempre en comparativa se designa cual es menior o el mayor, por el valor que esta a la izquierda de la operacion."
      ]
    },
    {
      "cell_type": "code",
      "metadata": {
        "id": "d_eqxxUOAhvw"
      },
      "source": [
        "print(30>29.8)\n",
        "print(20>10)"
      ],
      "execution_count": null,
      "outputs": []
    },
    {
      "cell_type": "markdown",
      "metadata": {
        "id": "HSplafESApgb"
      },
      "source": [
        "**Menor que**\n",
        "----------------------------\n",
        "caso contrario, el simbolo es (<)"
      ]
    },
    {
      "cell_type": "code",
      "metadata": {
        "id": "yrV8_G0dAw9t"
      },
      "source": [
        "x = 4\n",
        "y = 3\n",
        "print(x<y)\n"
      ],
      "execution_count": null,
      "outputs": []
    },
    {
      "cell_type": "markdown",
      "metadata": {
        "id": "aFX2GAnNA5P7"
      },
      "source": [
        "**Mayor o igual que**\n",
        "---\n",
        "Es similar al mayor que, la diferencias de que la forma dara el resultado verdadero es si ambos numeros son iguales flexibilizando verdadero de igual forma si el valor de la izquierda es mayor que el de la derecha. El simbolo es (>=)"
      ]
    },
    {
      "cell_type": "code",
      "metadata": {
        "colab": {
          "base_uri": "https://localhost:8080/"
        },
        "id": "QNCNiE8RBUyJ",
        "outputId": "b6d8b851-0128-4881-8fa9-26972f69483c"
      },
      "source": [
        "x = 10\n",
        "y = 5\n",
        "print(x >= y)"
      ],
      "execution_count": 22,
      "outputs": [
        {
          "output_type": "stream",
          "text": [
            "True\n"
          ],
          "name": "stdout"
        }
      ]
    },
    {
      "cell_type": "markdown",
      "metadata": {
        "id": "3kpoaAj0BvxO"
      },
      "source": [
        "**Menor o igual que**\n",
        "---\n",
        "EL simbolo es (<=)"
      ]
    },
    {
      "cell_type": "code",
      "metadata": {
        "colab": {
          "base_uri": "https://localhost:8080/"
        },
        "id": "XjuqJOdZB2uA",
        "outputId": "5b944435-98b1-41d7-d9c7-d2fd83b3b210"
      },
      "source": [
        "c = 45\n",
        "print(c <= 46)"
      ],
      "execution_count": 23,
      "outputs": [
        {
          "output_type": "stream",
          "text": [
            "True\n"
          ],
          "name": "stdout"
        }
      ]
    },
    {
      "cell_type": "markdown",
      "metadata": {
        "id": "4zIDejTjCTFm"
      },
      "source": [
        "**Tener en cuenta:**\n",
        "\n",
        "En comparaciones los resultados que nos arrojan siempre es siempre de tipo booleano es decir. true o false "
      ]
    },
    {
      "cell_type": "markdown",
      "metadata": {
        "id": "oYUT4KJLCsaF"
      },
      "source": [
        "**operadores logicos**\n",
        "\n",
        "python incluye tre operadores logicos\n",
        "1. and (y)\n",
        "2. or (o)\n",
        "3. not (no)\n",
        "\n",
        "los operadores logicos funcionan solo con valores o variablres booleanas, a su vez devuelven como respuesta valores boleanos"
      ]
    },
    {
      "cell_type": "markdown",
      "metadata": {
        "id": "km6S7rp1DHzF"
      },
      "source": [
        "**Operador AND**\n",
        "---\n",
        "Este operador solo devolvera (verdadero) si ambos valores lo son.\n",
        "¿como usar el operador AND?\n",
        "para usar este operador basta con escribir un valor booleano, luego, la palabra \"and\" y luego otro valor booleano\n",
        "\n",
        "**Ejemplo:**"
      ]
    },
    {
      "cell_type": "code",
      "metadata": {
        "colab": {
          "base_uri": "https://localhost:8080/"
        },
        "id": "1t3dLWnuDqri",
        "outputId": "47d0349e-00f7-42be-bf6b-127cb77f113d"
      },
      "source": [
        "print(True and False)"
      ],
      "execution_count": 24,
      "outputs": [
        {
          "output_type": "stream",
          "text": [
            "False\n"
          ],
          "name": "stdout"
        }
      ]
    },
    {
      "cell_type": "markdown",
      "metadata": {
        "id": "GaWqEBk0Dzeu"
      },
      "source": [
        "**ejemplo 2 de contextualizacion**\n",
        "\n",
        "1. True and True = True\n",
        "2. True and False = False\n",
        "3. False and False = False\n",
        "4. False and True = False"
      ]
    },
    {
      "cell_type": "markdown",
      "metadata": {
        "id": "ldkVwzPPEOOk"
      },
      "source": [
        "**Operador or**\n",
        "---\n",
        "A diferencia del operador and al operador or devuelve todo verdadero a meos de que ambos valores sean **Falsos**"
      ]
    },
    {
      "cell_type": "code",
      "metadata": {
        "id": "7yzLXAuyEeMG"
      },
      "source": [
        "print(True or True)\n",
        "print(False oFalse)"
      ],
      "execution_count": null,
      "outputs": []
    },
    {
      "cell_type": "markdown",
      "metadata": {
        "id": "OvgMzh7KEuB3"
      },
      "source": [
        "**ejemplo de contextualizacion de OR**\n",
        "\n",
        "1. False or False = False\n",
        "2. True and True = True\n",
        "3. True and False = True\n",
        "4. False and True = True"
      ]
    },
    {
      "cell_type": "code",
      "metadata": {
        "colab": {
          "base_uri": "https://localhost:8080/"
        },
        "id": "zUloC7QrFKhX",
        "outputId": "8e5708af-84eb-4d0d-c1cf-8e340b09cf56"
      },
      "source": [
        "a = 3\n",
        "b = 2\n",
        "print(a > 4 or a == 4)\n",
        "print(b ==  b and a >= b)"
      ],
      "execution_count": 26,
      "outputs": [
        {
          "output_type": "stream",
          "text": [
            "False\n",
            "True\n"
          ],
          "name": "stdout"
        }
      ]
    },
    {
      "cell_type": "markdown",
      "metadata": {
        "id": "gfy9Z6jbFvC9"
      },
      "source": [
        "**Operador NOT**\n",
        "---\n",
        "Este operador es negacion, en español estoy diciendo \"No\", Este operador es muy especial, dado que si solo no sirve para hacer ninguna operacion, lo unico que hace es negar, o en palabras mas simples, invertir el valor booleano que viene despues de èl."
      ]
    },
    {
      "cell_type": "code",
      "metadata": {
        "id": "DbcqakSvGgUR"
      },
      "source": [
        "print(not False)\n",
        "print(not True)"
      ],
      "execution_count": null,
      "outputs": []
    },
    {
      "cell_type": "markdown",
      "metadata": {
        "id": "mUhD_ldhHi7-"
      },
      "source": [
        "**PRECEDENCIA DE OPERADORES**\n",
        "\n",
        "---\n",
        "Es muy importante manejar el orden de las operaciones al realizarlas, para no caer en problemas de codigo error.\n",
        "\n",
        "El orden debe ser:\n",
        "1. De izquierda a derecha.\n",
        "2. Parentesis\n",
        "3. Potenciacion o Radicacion\n",
        "4. Multiplicacion y Division\n",
        "5. Suma y Resta.\n",
        "\n",
        "**Ejemplo:**\n",
        "\n",
        "4-2(10)=\n",
        "1. primero el parentesis:\n",
        "4 - 2 * 10 =\n",
        "2. se continua con la multiplicacion\n",
        "4-20=\n",
        "3. por ultimo la resta:\n",
        "4-20=-16\n",
        "\n",
        "¿cual crees que es el resultado de la siguiente operacion?"
      ]
    },
    {
      "cell_type": "code",
      "metadata": {
        "colab": {
          "base_uri": "https://localhost:8080/"
        },
        "id": "gEMg9KaNI151",
        "outputId": "95a3b22d-b409-4684-bcd2-158c7c076f63"
      },
      "source": [
        "a = False \n",
        "b = True\n",
        "c = True\n",
        "print(not c and (a or b))"
      ],
      "execution_count": 27,
      "outputs": [
        {
          "output_type": "stream",
          "text": [
            "False\n"
          ],
          "name": "stdout"
        }
      ]
    },
    {
      "cell_type": "code",
      "metadata": {
        "colab": {
          "base_uri": "https://localhost:8080/"
        },
        "id": "QT3xIGxZJDo1",
        "outputId": "eb05a87f-e498-4fa4-c029-acaaeba597d1"
      },
      "source": [
        "print(3-2*(13-5))"
      ],
      "execution_count": 29,
      "outputs": [
        {
          "output_type": "stream",
          "text": [
            "-13\n"
          ],
          "name": "stdout"
        }
      ]
    },
    {
      "cell_type": "markdown",
      "metadata": {
        "id": "NIUf-zdDJZCD"
      },
      "source": [
        "**RESUMEN**\n",
        "\n",
        "\n",
        "\n",
        "--- \n",
        "1. Aplicacion de ley conmutativa: solo para suma y resta (operadores basicos)\n",
        "2. Los resultados con operadores logicos son de tipo Bolleano.\n",
        "3. **NO** se puede realizar resta entre variables de tipoi cadena(1 priocedimiuento si abarca numeros es la conversion desde el inicio).\n",
        "4. Si aplicamois el condicional AND, para que el resultado sea True, la unica forma es que ambos valores sean verdaderos.\n",
        "5. en cambio con el or, si cumple que alguno de los dos valores son true, el resultado sera true.\n"
      ]
    },
    {
      "cell_type": "markdown",
      "metadata": {
        "id": "4B8hVvHOK0TD"
      },
      "source": [
        "Agregar 5 ejercicios mezclando todo lo visto en la clase de hoy"
      ]
    }
  ]
}