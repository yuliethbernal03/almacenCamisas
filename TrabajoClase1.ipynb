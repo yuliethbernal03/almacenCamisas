{
  "nbformat": 4,
  "nbformat_minor": 0,
  "metadata": {
    "colab": {
      "name": "TrabajoClase1.ipynb",
      "provenance": [],
      "authorship_tag": "ABX9TyNKT838ErltbVmlSpT3ziOB",
      "include_colab_link": true
    },
    "kernelspec": {
      "name": "python3",
      "display_name": "Python 3"
    },
    "language_info": {
      "name": "python"
    }
  },
  "cells": [
    {
      "cell_type": "markdown",
      "metadata": {
        "id": "view-in-github",
        "colab_type": "text"
      },
      "source": [
        "<a href=\"https://colab.research.google.com/github/yuliethbernal03/almacenCamisas/blob/main/TrabajoClase1.ipynb\" target=\"_parent\"><img src=\"https://colab.research.google.com/assets/colab-badge.svg\" alt=\"Open In Colab\"/></a>"
      ]
    },
    {
      "cell_type": "code",
      "metadata": {
        "id": "F-qy6VqlXs_D"
      },
      "source": [
        ""
      ],
      "execution_count": null,
      "outputs": []
    },
    {
      "cell_type": "markdown",
      "metadata": {
        "id": "FdWBihliX24t"
      },
      "source": [
        "Realizar 2 ejercicios por cada **Tipo de dato** visto en clase."
      ]
    },
    {
      "cell_type": "markdown",
      "metadata": {
        "id": "_LgLoVHbapId"
      },
      "source": [
        "**Tipo Enteros**\n",
        "_____\n",
        "**Int**\n"
      ]
    },
    {
      "cell_type": "markdown",
      "metadata": {
        "id": "UJZhbhvUdF8R"
      },
      "source": [
        "Suma de dos numeros"
      ]
    },
    {
      "cell_type": "code",
      "metadata": {
        "id": "B1z2pX3mgxPT"
      },
      "source": [
        ""
      ],
      "execution_count": null,
      "outputs": []
    },
    {
      "cell_type": "code",
      "metadata": {
        "colab": {
          "base_uri": "https://localhost:8080/"
        },
        "id": "42ds3oWWYDTX",
        "outputId": "60839c21-cff9-42bc-dbff-0000e3378bae"
      },
      "source": [
        "n1 = int(input(\"Ingrese el primer numero: \"))\n",
        "n2 = int(input(\"Ingrese el segundo numero: \"))\n",
        "print(\"la suma es: \",n1 + n2)"
      ],
      "execution_count": 3,
      "outputs": [
        {
          "output_type": "stream",
          "text": [
            "Ingrese el primer numero: 2\n",
            "Ingrese el segundo numero: 4\n",
            "la suma es:  6\n"
          ],
          "name": "stdout"
        }
      ]
    },
    {
      "cell_type": "markdown",
      "metadata": {
        "id": "nCi6D4EedKdF"
      },
      "source": [
        "Multiplicacion de dos numeros"
      ]
    },
    {
      "cell_type": "code",
      "metadata": {
        "colab": {
          "base_uri": "https://localhost:8080/"
        },
        "id": "MObAwtOTbKMj",
        "outputId": "f0412343-c900-49c1-cd0f-9dffbe389387"
      },
      "source": [
        "n1 = int(input(\"Ingrese el primer numero: \"))\n",
        "n2 = int(input(\"Ingrese el segundo numero:\"))\n",
        "print(\"El resultado de la multiplicacion entre los dos numeros es: \",n1 * n2)"
      ],
      "execution_count": 6,
      "outputs": [
        {
          "output_type": "stream",
          "text": [
            "Ingrese el primer numero: 5\n",
            "Ingrese el segundo numero:5\n",
            "El resultado de la multiplicacion entre los dos numeros es:  25\n"
          ],
          "name": "stdout"
        }
      ]
    },
    {
      "cell_type": "markdown",
      "metadata": {
        "id": "5GUYjQNLbBJK"
      },
      "source": [
        "**Float**"
      ]
    },
    {
      "cell_type": "markdown",
      "metadata": {
        "id": "-gPc_rGndQf4"
      },
      "source": [
        "Calculo de la media de dos numeros "
      ]
    },
    {
      "cell_type": "code",
      "metadata": {
        "colab": {
          "base_uri": "https://localhost:8080/"
        },
        "id": "VEBTJ9OSbHIx",
        "outputId": "888cbc8d-ba8e-42ad-ef05-b384f09c8903"
      },
      "source": [
        "n1 = float(input(\"Ingrese el primer numero:\" )) \n",
        "n2 = float(input(\"Ingrese el segundo numero: \"))\n",
        "print(\"la media de lops dos numeros es: \",(n1 + n2) / 2)"
      ],
      "execution_count": 8,
      "outputs": [
        {
          "output_type": "stream",
          "text": [
            "Ingrese el primer numero:2.5\n",
            "Ingrese el segundo numero: 2.8\n",
            "la media de lops dos numeros es:  2.65\n"
          ],
          "name": "stdout"
        }
      ]
    },
    {
      "cell_type": "markdown",
      "metadata": {
        "id": "4wW0Ra8KeR5I"
      },
      "source": [
        "Calculo de indice de masa corporal"
      ]
    },
    {
      "cell_type": "code",
      "metadata": {
        "colab": {
          "base_uri": "https://localhost:8080/"
        },
        "id": "HrqFKnPreZc2",
        "outputId": "56715fe3-1c98-483f-84bd-e079e58d2da0"
      },
      "source": [
        "peso = float(input(\"Ingrese su peso: \"))\n",
        "altura = float(input(\"Ingrese su altura: \"))\n",
        "indice = peso / altura * 2\n",
        "print(\"Su indice de  masa corporal es: \",indice)"
      ],
      "execution_count": 14,
      "outputs": [
        {
          "output_type": "stream",
          "text": [
            "Ingrese su peso: 80.5\n",
            "Ingrese su altura: 1.63\n",
            "Su indice de  masa corporal es:  98.77300613496934\n"
          ],
          "name": "stdout"
        }
      ]
    },
    {
      "cell_type": "markdown",
      "metadata": {
        "id": "7BNZUKJ2g_Ly"
      },
      "source": [
        "**Tipo Cadena**"
      ]
    },
    {
      "cell_type": "markdown",
      "metadata": {
        "id": "-hVsXkypiZPo"
      },
      "source": [
        "Saludo"
      ]
    },
    {
      "cell_type": "code",
      "metadata": {
        "colab": {
          "base_uri": "https://localhost:8080/"
        },
        "id": "uEP3B_KIhDLK",
        "outputId": "30259480-3ad2-424f-8e33-b6c42ccff06f"
      },
      "source": [
        "var1 = \"Hola\"\n",
        "var2 = input(\"Ingrese su nombre: \")\n",
        "print(var1 +\" \"+ var2)"
      ],
      "execution_count": 17,
      "outputs": [
        {
          "output_type": "stream",
          "text": [
            "Ingrese su nombre: Yulieth\n",
            "Hola Yulieth\n"
          ],
          "name": "stdout"
        }
      ]
    },
    {
      "cell_type": "markdown",
      "metadata": {
        "id": "WXVbU36iidnv"
      },
      "source": [
        "Formas de escribir el nombre\n"
      ]
    },
    {
      "cell_type": "code",
      "metadata": {
        "colab": {
          "base_uri": "https://localhost:8080/"
        },
        "id": "lzCIZJNSimJ3",
        "outputId": "85af3fad-9a0f-4113-8e43-ba54ac751fba"
      },
      "source": [
        "nombre = input(\"Ingrese su nombre: \")\n",
        "print(nombre.lower())\n",
        "print(nombre.upper())\n",
        "print(nombre.title())"
      ],
      "execution_count": 19,
      "outputs": [
        {
          "output_type": "stream",
          "text": [
            "Ingrese su nombre: yUliEth bERnal\n",
            "yulieth bernal\n",
            "YULIETH BERNAL\n",
            "Yulieth Bernal\n"
          ],
          "name": "stdout"
        }
      ]
    },
    {
      "cell_type": "markdown",
      "metadata": {
        "id": "FnjBm2Nhjw3n"
      },
      "source": [
        "**Tipo Booleano**"
      ]
    },
    {
      "cell_type": "code",
      "metadata": {
        "colab": {
          "base_uri": "https://localhost:8080/"
        },
        "id": "PzhiOvB1nE0n",
        "outputId": "d2ed9059-9d5f-4dc8-89d9-99f1771f727b"
      },
      "source": [
        "6==6\n",
        "\n"
      ],
      "execution_count": 20,
      "outputs": [
        {
          "output_type": "execute_result",
          "data": {
            "text/plain": [
              "True"
            ]
          },
          "metadata": {
            "tags": []
          },
          "execution_count": 20
        }
      ]
    }
  ]
}